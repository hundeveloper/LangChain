{
 "cells": [
  {
   "cell_type": "code",
   "execution_count": 1,
   "id": "59957512",
   "metadata": {},
   "outputs": [],
   "source": [
    "import os\n",
    "from dotenv import load_dotenv\n",
    "\n",
    "load_dotenv()\n",
    "OPENAI_API_KEY = os.getenv(\"OPENAI_API_KEY\")"
   ]
  },
  {
   "cell_type": "code",
   "execution_count": 2,
   "id": "1cf02e40",
   "metadata": {},
   "outputs": [
    {
     "name": "stdout",
     "output_type": "stream",
     "text": [
      "===== 여행 후기 분석 결과 =====\n",
      "{'activities': '해운대 바다구경, 자갈치시장에서 회 먹기, 감천문화마을 구경',\n",
      " 'budget': '30만원',\n",
      " 'destination': '부산',\n",
      " 'duration': '2박3일',\n",
      " 'rating': '4'}\n"
     ]
    }
   ],
   "source": [
    "from langchain_openai import ChatOpenAI\n",
    "from langchain_core.prompts import ChatPromptTemplate\n",
    "from langchain.output_parsers import StructuredOutputParser, ResponseSchema\n",
    "from pprint import pprint\n",
    "\n",
    "# 1. 출력 스키마 정의\n",
    "response_schemas = [\n",
    "    ResponseSchema(name=\"destination\", description=\"여행한 장소 (도시 또는 지역명)\"),\n",
    "    ResponseSchema(name=\"duration\", description=\"여행 기간 (예: '2박 3일', '3일간')\"),\n",
    "    ResponseSchema(name=\"budget\", description=\"총 사용한 예산 (예: '30만원')\"),\n",
    "    ResponseSchema(name=\"rating\", description=\"1~5점 사이의 추천도 점수\"),\n",
    "    ResponseSchema(name=\"activities\", description=\"주요 활동 리스트 (예: ['바다 구경', '맛집 탐방'])\")\n",
    "]\n",
    "\n",
    "# 2. 파서 설정\n",
    "parser = StructuredOutputParser.from_response_schemas(response_schemas)\n",
    "format_instructions = parser.get_format_instructions()\n",
    "\n",
    "# 3. 프롬프트 정의\n",
    "template = \"\"\"\n",
    "다음 여행 후기에서 핵심 정보를 추출하세요.\n",
    "\n",
    "후기: {review}\n",
    "\n",
    "{format_instructions}\n",
    "\"\"\"\n",
    "\n",
    "prompt = ChatPromptTemplate.from_template(template).partial(\n",
    "    format_instructions=format_instructions\n",
    ")\n",
    "\n",
    "# 4. 모델 설정\n",
    "model = ChatOpenAI(\n",
    "    base_url=\"https://api.groq.com/openai/v1\",\n",
    "    model=\"meta-llama/llama-4-scout-17b-16e-instruct\",\n",
    "    temperature=0.5\n",
    ")\n",
    "\n",
    "# 5. 테스트용 여행 후기 입력\n",
    "review = \"\"\"\n",
    "지난 주에 부산으로 2박 3일 여행을 다녀왔어요. \n",
    "총 30만원 정도 썼는데 해운대에서 바다구경하고, 자갈치시장에서 회 먹고, 감천문화마을도 구경했어요. \n",
    "정말 만족스러운 여행이었습니다. 5점 만점에 4점 정도 줄 수 있을 것 같아요.\n",
    "\"\"\"\n",
    "\n",
    "# 6. 체인 실행\n",
    "chain = prompt | model | parser\n",
    "output = chain.invoke({\"review\": review})\n",
    "\n",
    "# 7. 결과 출력\n",
    "print(\"===== 여행 후기 분석 결과 =====\")\n",
    "pprint(output)"
   ]
  },
  {
   "cell_type": "code",
   "execution_count": null,
   "id": "a67de3c8",
   "metadata": {},
   "outputs": [],
   "source": []
  }
 ],
 "metadata": {
  "kernelspec": {
   "display_name": "Python 3",
   "language": "python",
   "name": "python3"
  },
  "language_info": {
   "codemirror_mode": {
    "name": "ipython",
    "version": 3
   },
   "file_extension": ".py",
   "mimetype": "text/x-python",
   "name": "python",
   "nbconvert_exporter": "python",
   "pygments_lexer": "ipython3",
   "version": "3.13.2"
  }
 },
 "nbformat": 4,
 "nbformat_minor": 5
}
