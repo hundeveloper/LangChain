{
 "cells": [
  {
   "cell_type": "code",
   "execution_count": 1,
   "id": "d1d1c9f4",
   "metadata": {},
   "outputs": [
    {
     "name": "stdout",
     "output_type": "stream",
     "text": [
      "==> 1. 문서 로딩 → PDF 읽기...\n",
      "  총 39페이지 로드 완료\n",
      "==> 2. 문서 분할 → 작은 청크로 나누기\n",
      "  76개 청크 생성 완료\n",
      "==> 3. 벡터화 → 임베딩으로 변환\n",
      "==> 4. 저장 → FAISS 벡터스토어에 저장\n",
      "==> 5. 검색 → 질문과 유사한 문서 찾기\n",
      "==> 6. 생성 → LLM으로 답변 생성\n"
     ]
    },
    {
     "name": "stderr",
     "output_type": "stream",
     "text": [
      "C:\\Users\\hun\\AppData\\Local\\Temp\\ipykernel_33100\\2676010252.py:60: LangChainDeprecationWarning: The method `Chain.__call__` was deprecated in langchain 0.1.0 and will be removed in 1.0. Use :meth:`~invoke` instead.\n",
      "  result = qa_chain({\"query\": query})\n"
     ]
    },
    {
     "name": "stdout",
     "output_type": "stream",
     "text": [
      "\n",
      "===> 최종 답변:\n",
      "<think>\n",
      "Okay, let's see. The user is asking about the most important concept in the provided document. The document is about debugging in BlueJ, right? Let me go through the content again.\n",
      "\n",
      "The text starts by explaining how a breakpoint works when a program stops at a breakpoint. It mentions using the Step Into button to debug method calls. There's talk about the debugger window showing the current line in the editor and the steps to take. Then there's a section on variables, explaining that variables are automatically updated in the debugger. The note about the project not being compiled initially and the Compile button is also mentioned.\n",
      "\n",
      "So, the key points here are about debugging techniques like breakpoints, stepping into methods, and variable inspection. The main concepts would be the use of breakpoints, stepping through code, and inspecting variables in the debugger. The user might be looking for the core debugging strategies in BlueJ. I need to make sure I capture the essential elements without adding extra info. The answer should highlight the main debugging methods mentioned.\n",
      "</think>\n",
      "\n",
      "이 문서에서 가장 중요한 개념은 **디버깅 기술**입니다. 특히, 다음과 같은 핵심 내용이 포함되어 있습니다:  \n",
      "1. **중단점( breakpoint)**: 프로그램 실행 중에 특정 라인을 중단하여 코드를 단계별로 실행할 수 있는 기능.  \n",
      "2. **단계 실행(Step Through/Step Into)**: 코드를 한 줄씩 실행하거나, 메소드 내부로 들어가서 실행하는 기능.  \n",
      "3. **변수 검사**: 객체의 상태(정적 변수, 인스턴스 변수, 지역 변수)가 실시간으로 업데이트되어 보여지는 방식.  \n",
      "4. **디버거 윈도우**: 현재 실행 중인 코드의 라인을 표시하고, 에디터와 함께 동작하는 디버거 환경.  \n",
      "\n",
      "이러한 기능들은 프로그램의 실행을 추적하고 변수 상태를 확인하여 오류를 찾는 데 필수적입니다.\n"
     ]
    }
   ],
   "source": [
    "from langchain_community.document_loaders import PyPDFLoader\n",
    "from langchain.text_splitter import RecursiveCharacterTextSplitter\n",
    "from langchain_community.vectorstores import FAISS\n",
    "from langchain_ollama import OllamaEmbeddings, ChatOllama\n",
    "from langchain.chains import RetrievalQA\n",
    "from langchain.prompts import PromptTemplate\n",
    "\n",
    "# 1. 문서 로딩\n",
    "print(\"==> 1. 문서 로딩 → PDF 읽기...\")\n",
    "loader = PyPDFLoader('./data/tutorial-korean.pdf')\n",
    "documents = loader.load()\n",
    "print(f\"  총 {len(documents)}페이지 로드 완료\")\n",
    "\n",
    "# 2. 문서 분할\n",
    "print(\"==> 2. 문서 분할 → 작은 청크로 나누기\")\n",
    "text_splitter = RecursiveCharacterTextSplitter(\n",
    "    chunk_size=800,         # 로컬 모델 최적화\n",
    "    chunk_overlap=150,      # 중복 감소\n",
    "    separators=[\"\\n\\n\", \"\\n\", \".\", \" \", \"\"]\n",
    ")\n",
    "chunks = text_splitter.split_documents(documents)\n",
    "print(f\"  {len(chunks)}개 청크 생성 완료\")\n",
    "\n",
    "# 3. 벡터화\n",
    "print(\"==> 3. 벡터화 → 임베딩으로 변환\")\n",
    "embeddings = OllamaEmbeddings(\n",
    "    model=\"qwen3:1.7b\",\n",
    "    base_url=\"http://localhost:11434\"\n",
    ")\n",
    "\n",
    "# 4. FAISS 저장\n",
    "print(\"==> 4. 저장 → FAISS 벡터스토어에 저장\")\n",
    "vectorstore = FAISS.from_documents(chunks, embeddings)\n",
    "\n",
    "# 5. 검색기 생성\n",
    "print(\"==> 5. 검색 → 질문과 유사한 문서 찾기\")\n",
    "retriever = vectorstore.as_retriever(\n",
    "    search_type=\"similarity\",\n",
    "    search_kwargs={\"k\": 4}  # 성능 고려해 4개만\n",
    ")\n",
    "\n",
    "# 6. LLM 초기화\n",
    "print(\"==> 6. 생성 → LLM으로 답변 생성\")\n",
    "llm = ChatOllama(\n",
    "    model=\"qwen3:1.7b\",\n",
    "    base_url=\"http://localhost:11434\",\n",
    "    temperature=0.1,\n",
    "    num_predict=1500\n",
    ")\n",
    "\n",
    "# 7. QA 체인 구성\n",
    "qa_chain = RetrievalQA.from_chain_type(\n",
    "    llm=llm,\n",
    "    retriever=retriever,\n",
    "    return_source_documents=True\n",
    ")\n",
    "\n",
    "# 8. 질문 실행 예시\n",
    "query = \"이 문서에서 가장 중요한 개념은 무엇인가요?\"\n",
    "result = qa_chain({\"query\": query})\n",
    "\n",
    "print(\"\\n===> 최종 답변:\")\n",
    "print(result[\"result\"])"
   ]
  },
  {
   "cell_type": "code",
   "execution_count": null,
   "id": "d99d3a19",
   "metadata": {},
   "outputs": [],
   "source": []
  }
 ],
 "metadata": {
  "kernelspec": {
   "display_name": "langchain-basic-dT4wY9iB-py3.12",
   "language": "python",
   "name": "python3"
  },
  "language_info": {
   "codemirror_mode": {
    "name": "ipython",
    "version": 3
   },
   "file_extension": ".py",
   "mimetype": "text/x-python",
   "name": "python",
   "nbconvert_exporter": "python",
   "pygments_lexer": "ipython3",
   "version": "3.12.7"
  }
 },
 "nbformat": 4,
 "nbformat_minor": 5
}
