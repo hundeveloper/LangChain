{
 "cells": [
  {
   "cell_type": "code",
   "execution_count": null,
   "id": "a4cf002a",
   "metadata": {},
   "outputs": [],
   "source": [
    "# Step 1. cafe_menu_data.txt 로드 및 분할\n",
    "from langchain_community.document_loaders import TextLoader\n",
    "from langchain.text_splitter import RecursiveCharacterTextSplitter\n",
    "from langchain_community.vectorstores import FAISS\n",
    "from langchain_community.embeddings import OllamaEmbeddings\n",
    "import os\n",
    "\n",
    "# 파일 위치\n",
    "data_path = \"./data/cafe_menu_data.txt\"\n",
    "\n",
    "# Document 로드\n",
    "loader = TextLoader(data_path, encoding=\"utf-8\")\n",
    "docs = loader.load()\n",
    "\n",
    "# 메뉴 단위 분할\n",
    "splitter = RecursiveCharacterTextSplitter(\n",
    "    separators=[\"\\n\\n\"],  # 메뉴 하나가 \\n\\n 기준으로 나눠짐\n",
    "    chunk_size=500,\n",
    "    chunk_overlap=0\n",
    ")\n",
    "split_docs = splitter.split_documents(docs)\n",
    "\n",
    "# 임베딩 및 벡터화\n",
    "embedding = OllamaEmbeddings(model=\"bge-m3\")  # ollama pull bge-m3 필수\n",
    "vectorstore = FAISS.from_documents(split_docs, embedding)\n",
    "\n",
    "# 저장\n",
    "os.makedirs(\"./db\", exist_ok=True)\n",
    "vectorstore.save_local(\"./db/cafe_db\")"
   ]
  },
  {
   "cell_type": "code",
   "execution_count": null,
   "id": "1f17a141",
   "metadata": {},
   "outputs": [],
   "source": [
    "import os\n",
    "from dotenv import load_dotenv\n",
    "\n",
    "load_dotenv()\n",
    "OPENAI_API_KEY = os.getenv(\"OPENAI_API_KEY\")\n",
    "print(OPENAI_API_KEY[:2])"
   ]
  },
  {
   "cell_type": "code",
   "execution_count": null,
   "id": "c535ef50",
   "metadata": {},
   "outputs": [],
   "source": [
    "# Step 2. 도구 정의\n",
    "from langchain.tools import tool\n",
    "from langchain_community.utilities import WikipediaAPIWrapper\n",
    "from langchain_community.tools.tavily_search import TavilySearchResults\n",
    "\n",
    "@tool\n",
    "def tavily_search_func(query: str) -> str:\n",
    "    \"\"\"웹에서 최신 정보 검색\"\"\"\n",
    "    tavily = TavilySearchResults(k=3)\n",
    "    return str(tavily.run(query))\n",
    "\n",
    "@tool\n",
    "def wiki_summary(topic: str) -> str:\n",
    "    \"\"\"위키피디아에서 요약 정보 검색\"\"\"\n",
    "    wiki = WikipediaAPIWrapper(top_k_results=1, doc_content_chars_max=300)\n",
    "    return wiki.run(topic)\n",
    "\n",
    "@tool\n",
    "def db_search_cafe_func(query: str) -> list:\n",
    "    \"\"\"로컬 벡터 DB에서 메뉴 관련 정보 검색\"\"\"\n",
    "    db = FAISS.load_local(\n",
    "        \"./db/cafe_db\",\n",
    "        OllamaEmbeddings(model=\"bge-m3\"),\n",
    "        allow_dangerous_deserialization=True\n",
    "    )\n",
    "    return db.similarity_search(query, k=2)"
   ]
  },
  {
   "cell_type": "code",
   "execution_count": null,
   "id": "662d9ee3",
   "metadata": {},
   "outputs": [],
   "source": [
    "# Step 3. LLM과 Tool 연결\n",
    "from langchain_openai import ChatOpenAI\n",
    "from langchain.agents import initialize_agent\n",
    "\n",
    "llm = ChatOpenAI(model=\"gpt-3.5-turbo\", temperature=0)\n",
    "tools = [tavily_search_func, wiki_summary, db_search_cafe_func]\n",
    "\n",
    "agent = initialize_agent(\n",
    "    tools,\n",
    "    llm,\n",
    "    agent_type=\"openai-tools\",\n",
    "    verbose=True\n",
    ")"
   ]
  },
  {
   "cell_type": "code",
   "execution_count": null,
   "id": "dec73a5f",
   "metadata": {},
   "outputs": [],
   "source": [
    "# Step 4. 질문 테스트\n",
    "query = \"아메리카노의 가격과 특징은 무엇인가요?\"\n",
    "response = agent.run(query)\n",
    "print(response)"
   ]
  },
  {
   "cell_type": "code",
   "execution_count": null,
   "id": "a4e6116c",
   "metadata": {},
   "outputs": [],
   "source": []
  },
  {
   "cell_type": "code",
   "execution_count": null,
   "id": "c4670e58",
   "metadata": {},
   "outputs": [],
   "source": []
  }
 ],
 "metadata": {
  "kernelspec": {
   "display_name": "langchain-basic-dT4wY9iB-py3.12",
   "language": "python",
   "name": "python3"
  },
  "language_info": {
   "codemirror_mode": {
    "name": "ipython",
    "version": 3
   },
   "file_extension": ".py",
   "mimetype": "text/x-python",
   "name": "python",
   "nbconvert_exporter": "python",
   "pygments_lexer": "ipython3",
   "version": "3.12.7"
  }
 },
 "nbformat": 4,
 "nbformat_minor": 5
}
