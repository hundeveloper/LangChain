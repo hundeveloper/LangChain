{
 "cells": [
  {
   "cell_type": "code",
   "execution_count": null,
   "id": "59957512",
   "metadata": {},
   "outputs": [],
   "source": [
    "import os\n",
    "from dotenv import load_dotenv\n",
    "\n",
    "load_dotenv()\n",
    "OPENAI_API_KEY = os.getenv(\"OPENAI_API_KEY\")"
   ]
  },
  {
   "cell_type": "code",
   "execution_count": 2,
   "id": "1cf02e40",
   "metadata": {},
   "outputs": [
    {
     "name": "stdout",
     "output_type": "stream",
     "text": [
      "=== 추출된 학생 정보 ===\n",
      "이름: 김민수\n",
      "나이: 22\n",
      "전공: 컴퓨터공학\n",
      "취미: 게임하기, 영화보기, 코딩\n",
      "목표: 훌륭한 개발자가 되는 것\n"
     ]
    }
   ],
   "source": [
    "from langchain_core.prompts import ChatPromptTemplate\n",
    "from langchain.output_parsers import PydanticOutputParser\n",
    "from langchain_openai import ChatOpenAI\n",
    "from pydantic import BaseModel, Field\n",
    "from typing import List\n",
    "\n",
    "# 1. 출력 구조 정의\n",
    "class StudentInfo(BaseModel):\n",
    "    name: str = Field(description=\"학생 이름\")\n",
    "    age: int = Field(description=\"학생 나이\")\n",
    "    major: str = Field(description=\"전공\")\n",
    "    hobbies: List[str] = Field(description=\"취미 리스트\")\n",
    "    goal: str = Field(description=\"학생의 목표\")\n",
    "\n",
    "# 2. Pydantic 파서 설정\n",
    "parser = PydanticOutputParser(pydantic_object=StudentInfo)\n",
    "\n",
    "# 3. 프롬프트 템플릿 정의\n",
    "template = \"\"\"\n",
    "당신은 학생 정보 추출 시스템입니다.\n",
    "아래 자기소개 문장에서 이름, 나이, 전공, 취미들, 목표를 추출하여 구조화하세요.\n",
    "\n",
    "자기소개: {intro}\n",
    "\n",
    "{format_instructions}\n",
    "\"\"\"\n",
    "\n",
    "prompt = ChatPromptTemplate.from_template(template).partial(\n",
    "    format_instructions=parser.get_format_instructions()\n",
    ")\n",
    "\n",
    "# 4. 모델 설정\n",
    "model = ChatOpenAI(\n",
    "    base_url=\"https://api.groq.com/openai/v1\",\n",
    "    model=\"meta-llama/llama-4-scout-17b-16e-instruct\",\n",
    "    temperature=0\n",
    ")\n",
    "\n",
    "# 5. 체인 구성\n",
    "chain = prompt | model | parser\n",
    "\n",
    "# 6. 테스트용 자기소개 입력\n",
    "intro_text = \"안녕하세요! 저는 김민수이고 22살입니다. 컴퓨터공학을 전공하고 있어요. 취미로는 게임하기, 영화보기, 코딩을 좋아합니다. 앞으로 훌륭한 개발자가 되는 것이 목표입니다.\"\n",
    "\n",
    "# 7. 실행\n",
    "output = chain.invoke({\"intro\": intro_text})\n",
    "\n",
    "# 8. 결과 출력\n",
    "print(\"=== 추출된 학생 정보 ===\")\n",
    "print(f\"이름: {output.name}\")\n",
    "print(f\"나이: {output.age}\")\n",
    "print(f\"전공: {output.major}\")\n",
    "print(f\"취미: {', '.join(output.hobbies)}\")\n",
    "print(f\"목표: {output.goal}\")"
   ]
  },
  {
   "cell_type": "code",
   "execution_count": null,
   "id": "a67de3c8",
   "metadata": {},
   "outputs": [],
   "source": []
  }
 ],
 "metadata": {
  "kernelspec": {
   "display_name": "Python 3",
   "language": "python",
   "name": "python3"
  },
  "language_info": {
   "codemirror_mode": {
    "name": "ipython",
    "version": 3
   },
   "file_extension": ".py",
   "mimetype": "text/x-python",
   "name": "python",
   "nbconvert_exporter": "python",
   "pygments_lexer": "ipython3",
   "version": "3.13.2"
  }
 },
 "nbformat": 4,
 "nbformat_minor": 5
}
