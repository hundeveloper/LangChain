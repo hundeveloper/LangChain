{
 "cells": [
  {
   "cell_type": "markdown",
   "id": "7bc8aef7",
   "metadata": {},
   "source": [
    "# 문제 2-1: 콤마 구분 리스트 파서 활용\n",
    "사용자의 관심 분야에 따라 한국의 유명한 장소나 활동 5가지를 추천합니다. 결과는 콤마로 구분된 리스트 형태로 출력됩니다."
   ]
  },
  {
   "cell_type": "code",
   "execution_count": 2,
   "id": "7972283a",
   "metadata": {},
   "outputs": [
    {
     "name": "stdout",
     "output_type": "stream",
     "text": [
      "\n",
      "📌 '음식'에 대한 추천 5가지:\n",
      "1. 주어진 입력이 없으므로 예시로 \"역사\"를 입력했을 때의 결과로 대체하겠습니다.\n",
      "2. 경복궁\n",
      "3. 수원 화성\n",
      "4. 창덕궁\n",
      "5. 국립중앙박물관\n",
      "6. 광화문\n",
      "\n",
      "✅ 추천 결과가 './data\\음식_recommendations.csv'에 저장되었습니다.\n"
     ]
    }
   ],
   "source": [
    "from langchain.output_parsers import CommaSeparatedListOutputParser\n",
    "from langchain.prompts import PromptTemplate\n",
    "from langchain_openai import ChatOpenAI\n",
    "import csv\n",
    "import os\n",
    "\n",
    "# 1) 콤마로 구분된 리스트 출력 파서 초기화\n",
    "output_parser = CommaSeparatedListOutputParser()\n",
    "format_instructions = output_parser.get_format_instructions()\n",
    "\n",
    "# 2) 프롬프트 템플릿 설정\n",
    "prompt = PromptTemplate(\n",
    "    template=\"\"\"\n",
    "사용자가 입력한 관심 분야(subject)에 따라 한국에서 유명한 장소나 활동 5가지를 추천해줘.\n",
    "출력은 쉼표로 구분된 리스트로만 제공해야 해.\n",
    "{format_instructions}\n",
    "\"\"\",\n",
    "    input_variables=[\"subject\"],\n",
    "    partial_variables={\"format_instructions\": format_instructions},\n",
    ")\n",
    "\n",
    "# 3) OpenAI 모델 설정 (Groq API 예시)\n",
    "model = ChatOpenAI(\n",
    "    base_url=\"https://api.groq.com/openai/v1\",\n",
    "    model=\"meta-llama/llama-4-scout-17b-16e-instruct\",\n",
    "    temperature=0\n",
    ")\n",
    "\n",
    "# 4) 체인 생성\n",
    "chain = prompt | model | output_parser\n",
    "\n",
    "# 5) 사용자 입력 받기\n",
    "subject = input(\"관심 있는 분야를 입력하세요 (예: 음식, 스포츠, 영화): \")\n",
    "\n",
    "# 6) 체인 실행\n",
    "result = chain.invoke({\"subject\": subject})\n",
    "\n",
    "# 7) 결과 출력\n",
    "print(f\"\\n📌 '{subject}'에 대한 추천 5가지:\")\n",
    "for idx, item in enumerate(result, 1):\n",
    "    print(f\"{idx}. {item}\")\n",
    "\n",
    "# 8) CSV 저장 준비\n",
    "csv_dir = \"./data\"\n",
    "os.makedirs(csv_dir, exist_ok=True)\n",
    "csv_filename = os.path.join(csv_dir, f\"{subject}_recommendations.csv\")\n",
    "\n",
    "# 9) CSV 파일로 저장\n",
    "with open(csv_filename, \"w\", newline=\"\", encoding=\"utf-8\") as file:\n",
    "    writer = csv.writer(file)\n",
    "    writer.writerow([f\"추천: {subject}\"])\n",
    "    for item in result:\n",
    "        writer.writerow([item])\n",
    "\n",
    "print(f\"\\n✅ 추천 결과가 '{csv_filename}'에 저장되었습니다.\")"
   ]
  },
  {
   "cell_type": "code",
   "execution_count": null,
   "id": "00740432",
   "metadata": {},
   "outputs": [],
   "source": []
  }
 ],
 "metadata": {
  "kernelspec": {
   "display_name": "Python 3",
   "language": "python",
   "name": "python3"
  },
  "language_info": {
   "codemirror_mode": {
    "name": "ipython",
    "version": 3
   },
   "file_extension": ".py",
   "mimetype": "text/x-python",
   "name": "python",
   "nbconvert_exporter": "python",
   "pygments_lexer": "ipython3",
   "version": "3.13.2"
  }
 },
 "nbformat": 4,
 "nbformat_minor": 5
}
