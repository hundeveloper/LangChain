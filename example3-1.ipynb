{
 "cells": [
  {
   "cell_type": "code",
   "execution_count": null,
   "id": "f6af41a9",
   "metadata": {},
   "outputs": [],
   "source": [
    "import openai\n",
    "import os\n",
    "from dotenv import load_dotenv\n",
    "\n",
    "load_dotenv()\n",
    "openai.api_key = os.getenv(\"OPENAI_API_KEY\")\n",
    "\n",
    "from openai import OpenAI\n",
    "\n",
    "client = OpenAI(api_key=openai.api_key)\n",
    "\n",
    "try:\n",
    "    models = client.models.list()\n",
    "    print(\"🔑 OpenAI API 정상 인증 완료 ✅\")\n",
    "except Exception as e:\n",
    "    print(\"❌ 인증 실패:\", e)"
   ]
  },
  {
   "cell_type": "code",
   "execution_count": null,
   "id": "39d11e83",
   "metadata": {},
   "outputs": [],
   "source": [
    "# 0단계: PDF 문서 로딩\n",
    "import os\n",
    "from langchain_community.document_loaders import PyPDFLoader\n",
    "\n",
    "pdf_path = \"./data/콘텐츠분쟁해결_사례.pdf\"\n",
    "\n",
    "print(\"📁 현재 작업 디렉토리:\", os.getcwd())\n",
    "print(\"📄 data 폴더 내 파일 목록:\", os.listdir(\"./data\"))\n",
    "\n",
    "if os.path.exists(pdf_path):\n",
    "    loader = PyPDFLoader(pdf_path)\n",
    "    documents = loader.load()\n",
    "    print(f\"✅ {len(documents)}개 페이지 로드 완료\")\n",
    "else:\n",
    "    print(\"❌ PDF 파일 경로가 올바르지 않습니다.\")"
   ]
  },
  {
   "cell_type": "code",
   "execution_count": null,
   "id": "8f1b30c7",
   "metadata": {},
   "outputs": [],
   "source": [
    "# 1단계: 문서 분할\n",
    "from langchain.text_splitter import RecursiveCharacterTextSplitter\n",
    "\n",
    "text_splitter = RecursiveCharacterTextSplitter(\n",
    "    chunk_size=1500,\n",
    "    chunk_overlap=300,\n",
    "    separators=[\n",
    "        \"\\n【사건개요】\", \"\\n【쟁점사항】\", \"\\n【처리경위】\", \"\\n【처리결과】\",\n",
    "        \"\\n■\", \"\\n\\n\", \"\\n\", \".\", \" \", \"\"\n",
    "    ]\n",
    ")\n",
    "chunks = text_splitter.split_documents(documents)\n",
    "print(f\"🧩 분할된 청크 수: {len(chunks)}\")"
   ]
  },
  {
   "cell_type": "code",
   "execution_count": null,
   "id": "749f1262",
   "metadata": {},
   "outputs": [],
   "source": [
    "# 2단계: 임베딩 설정\n",
    "from langchain_openai import OpenAIEmbeddings\n",
    "\n",
    "embeddings = OpenAIEmbeddings(\n",
    "    model=\"text-embedding-3-large\",\n",
    "    dimensions=1536\n",
    ")\n"
   ]
  },
  {
   "cell_type": "code",
   "execution_count": null,
   "id": "bebbfc0b",
   "metadata": {},
   "outputs": [],
   "source": [
    "# 3단계: 벡터스토어 및 검색기 설정\n",
    "from langchain_community.vectorstores import FAISS\n",
    "\n",
    "\n",
    "vectorstore = FAISS.from_documents(chunks[:10], embeddings)\n",
    "retriever = vectorstore.as_retriever(\n",
    "    search_type=\"similarity\",\n",
    "    search_kwargs={\"k\": 5}\n",
    ")\n",
    "\n",
    "\"\"\"RateLimitError: Error code: 429\n",
    "\"You exceeded your current quota\" → 사용 가능한 OpenAI API **쿼터(요금제 한도)**를 초과했습니다.\"\n",
    "이 초과로 인해 문제를 풉니다 ㅠㅠ\"\""
   ]
  },
  {
   "cell_type": "code",
   "execution_count": null,
   "id": "a3fd27b8",
   "metadata": {},
   "outputs": [],
   "source": [
    "# 4단계: LLM 설정\n",
    "from langchain_openai import ChatOpenAI\n",
    "\n",
    "llm = ChatOpenAI(\n",
    "    model=\"gpt-4o\",\n",
    "    temperature=0.2,\n",
    "    max_tokens=2000\n",
    ")"
   ]
  },
  {
   "cell_type": "code",
   "execution_count": null,
   "id": "6ec5cd79",
   "metadata": {},
   "outputs": [],
   "source": [
    "# 5단계: 프롬프트 템플릿 작성\n",
    "from langchain.prompts import PromptTemplate\n",
    "\n",
    "prompt_template = PromptTemplate.from_template(\"\"\"\n",
    "당신은 콘텐츠 분야 전문 법률 자문사입니다. \n",
    "아래 분쟁조정 사례들을 바탕으로 정확하고 전문적인 법률 조언을 제공해주세요.\n",
    "\n",
    "관련 분쟁사례:\n",
    "{context}\n",
    "\n",
    "상담 내용: {question}\n",
    "\n",
    "답변 가이드라인:\n",
    "1. 제시된 사례들을 근거로 답변하세요\n",
    "2. 관련 법령이나 조항이 있다면 명시하세요\n",
    "3. 비슷한 사례의 처리경위와 결과를 참고하여 설명하세요\n",
    "4. 실무적 해결방안을 단계별로 제시하세요\n",
    "5. 사례에 없는 내용은 \"제시된 사례집에서는 확인할 수 없습니다\"라고 명시하세요\n",
    "\n",
    "전문 법률 조언:\n",
    "\"\"\")"
   ]
  },
  {
   "cell_type": "code",
   "execution_count": null,
   "id": "fc1e31d8",
   "metadata": {},
   "outputs": [],
   "source": [
    "# 6단계: QA 체인 생성\n",
    "from langchain.chains import RetrievalQA\n",
    "\n",
    "qa_chain = RetrievalQA.from_chain_type(\n",
    "    llm=llm,\n",
    "    chain_type=\"stuff\",\n",
    "    retriever=retriever,\n",
    "    chain_type_kwargs={\"prompt\": prompt_template},\n",
    "    return_source_documents=True\n",
    ")"
   ]
  },
  {
   "cell_type": "code",
   "execution_count": null,
   "id": "1177d6e1",
   "metadata": {},
   "outputs": [],
   "source": [
    "# 7단계: 테스트 질문 작성\n",
    "test_questions = [\n",
    "    \"온라인 게임에서 시스템 오류로 아이템이 사라졌는데, 게임회사가 복구를 거부하고 있습니다. 어떻게 해결할 수 있나요?\",\n",
    "    \"인터넷 강의를 중도 해지하려고 하는데 과도한 위약금을 요구받고 있습니다. 정당한가요?\",\n",
    "    \"무료체험 후 자동으로 유료전환되어 요금이 청구되었습니다. 환불 가능한가요?\",\n",
    "    \"미성년자가 부모 동의 없이 게임 아이템을 구매했습니다. 환불받을 수 있는 방법이 있나요?\",\n",
    "    \"온라인 교육 서비스가 광고와 다르게 제공되어 계약을 해지하고 싶습니다. 가능한가요?\"\n",
    "]"
   ]
  },
  {
   "cell_type": "code",
   "execution_count": null,
   "id": "2b0d5aae",
   "metadata": {},
   "outputs": [],
   "source": [
    "# 8단계: 분쟁 유형 분류 함수 (선택)\n",
    "def classify_dispute_type(query):\n",
    "    game_keywords = [\"게임\", \"아이템\", \"계정\", \"캐릭터\", \"레벨\", \"길드\", \"온라인게임\"]\n",
    "    elearning_keywords = [\"강의\", \"온라인교육\", \"이러닝\", \"수강\", \"환불\", \"화상교육\"]\n",
    "    web_keywords = [\"웹사이트\", \"무료체험\", \"자동결제\", \"구독\", \"사이트\"]\n",
    "\n",
    "    query_lower = query.lower()\n",
    "\n",
    "    if any(keyword in query_lower for keyword in game_keywords):\n",
    "        return \"게임\"\n",
    "    elif any(keyword in query_lower for keyword in elearning_keywords):\n",
    "        return \"이러닝\"\n",
    "    elif any(keyword in query_lower for keyword in web_keywords):\n",
    "        return \"웹콘텐츠\"\n",
    "    else:\n",
    "        return \"기타\""
   ]
  },
  {
   "cell_type": "code",
   "execution_count": null,
   "id": "e3cd1050",
   "metadata": {},
   "outputs": [],
   "source": [
    "response = qa_chain.run(\"온라인 게임 아이템이 사라졌는데 환불받을 수 있나요?\")\n",
    "print(response)"
   ]
  },
  {
   "cell_type": "code",
   "execution_count": null,
   "id": "44ba755e",
   "metadata": {},
   "outputs": [],
   "source": []
  }
 ],
 "metadata": {
  "kernelspec": {
   "display_name": "chatbot-DD67osgJ-py3.12",
   "language": "python",
   "name": "python3"
  },
  "language_info": {
   "codemirror_mode": {
    "name": "ipython",
    "version": 3
   },
   "file_extension": ".py",
   "mimetype": "text/x-python",
   "name": "python",
   "nbconvert_exporter": "python",
   "pygments_lexer": "ipython3",
   "version": "3.12.7"
  }
 },
 "nbformat": 4,
 "nbformat_minor": 5
}
